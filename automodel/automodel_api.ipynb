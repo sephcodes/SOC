{
 "cells": [
  {
   "cell_type": "code",
   "execution_count": 1,
   "metadata": {},
   "outputs": [
    {
     "name": "stdout",
     "output_type": "stream",
     "text": [
      "Requirement already satisfied: typing-extensions==4.8.0 in /Users/youssefawad/anaconda3/lib/python3.11/site-packages (4.8.0)\n",
      "Requirement already satisfied: fastapi in /Users/youssefawad/anaconda3/lib/python3.11/site-packages (0.104.1)\n",
      "Requirement already satisfied: anyio<4.0.0,>=3.7.1 in /Users/youssefawad/anaconda3/lib/python3.11/site-packages (from fastapi) (3.7.1)\n",
      "Requirement already satisfied: pydantic!=1.8,!=1.8.1,!=2.0.0,!=2.0.1,!=2.1.0,<3.0.0,>=1.7.4 in /Users/youssefawad/anaconda3/lib/python3.11/site-packages (from fastapi) (2.5.2)\n",
      "Requirement already satisfied: starlette<0.28.0,>=0.27.0 in /Users/youssefawad/anaconda3/lib/python3.11/site-packages (from fastapi) (0.27.0)\n",
      "Requirement already satisfied: typing-extensions>=4.8.0 in /Users/youssefawad/anaconda3/lib/python3.11/site-packages (from fastapi) (4.8.0)\n",
      "Requirement already satisfied: idna>=2.8 in /Users/youssefawad/anaconda3/lib/python3.11/site-packages (from anyio<4.0.0,>=3.7.1->fastapi) (3.4)\n",
      "Requirement already satisfied: sniffio>=1.1 in /Users/youssefawad/anaconda3/lib/python3.11/site-packages (from anyio<4.0.0,>=3.7.1->fastapi) (1.2.0)\n",
      "Requirement already satisfied: annotated-types>=0.4.0 in /Users/youssefawad/anaconda3/lib/python3.11/site-packages (from pydantic!=1.8,!=1.8.1,!=2.0.0,!=2.0.1,!=2.1.0,<3.0.0,>=1.7.4->fastapi) (0.6.0)\n",
      "Requirement already satisfied: pydantic-core==2.14.5 in /Users/youssefawad/anaconda3/lib/python3.11/site-packages (from pydantic!=1.8,!=1.8.1,!=2.0.0,!=2.0.1,!=2.1.0,<3.0.0,>=1.7.4->fastapi) (2.14.5)\n",
      "Requirement already satisfied: uvicorn in /Users/youssefawad/anaconda3/lib/python3.11/site-packages (0.24.0.post1)\n",
      "Requirement already satisfied: click>=7.0 in /Users/youssefawad/anaconda3/lib/python3.11/site-packages (from uvicorn) (8.0.4)\n",
      "Requirement already satisfied: h11>=0.8 in /Users/youssefawad/anaconda3/lib/python3.11/site-packages (from uvicorn) (0.14.0)\n",
      "Requirement already satisfied: pydantic in /Users/youssefawad/anaconda3/lib/python3.11/site-packages (2.5.2)\n",
      "Requirement already satisfied: annotated-types>=0.4.0 in /Users/youssefawad/anaconda3/lib/python3.11/site-packages (from pydantic) (0.6.0)\n",
      "Requirement already satisfied: pydantic-core==2.14.5 in /Users/youssefawad/anaconda3/lib/python3.11/site-packages (from pydantic) (2.14.5)\n",
      "Requirement already satisfied: typing-extensions>=4.6.1 in /Users/youssefawad/anaconda3/lib/python3.11/site-packages (from pydantic) (4.8.0)\n",
      "Requirement already satisfied: requests in /Users/youssefawad/anaconda3/lib/python3.11/site-packages (2.31.0)\n",
      "Requirement already satisfied: charset-normalizer<4,>=2 in /Users/youssefawad/anaconda3/lib/python3.11/site-packages (from requests) (2.0.4)\n",
      "Requirement already satisfied: idna<4,>=2.5 in /Users/youssefawad/anaconda3/lib/python3.11/site-packages (from requests) (3.4)\n",
      "Requirement already satisfied: urllib3<3,>=1.21.1 in /Users/youssefawad/anaconda3/lib/python3.11/site-packages (from requests) (1.26.16)\n",
      "Requirement already satisfied: certifi>=2017.4.17 in /Users/youssefawad/anaconda3/lib/python3.11/site-packages (from requests) (2023.7.22)\n",
      "Requirement already satisfied: pypi-json in /Users/youssefawad/anaconda3/lib/python3.11/site-packages (0.4.0)\n",
      "Requirement already satisfied: apeye>=1.1.0 in /Users/youssefawad/anaconda3/lib/python3.11/site-packages (from pypi-json) (1.4.1)\n",
      "Requirement already satisfied: packaging>=21.0 in /Users/youssefawad/anaconda3/lib/python3.11/site-packages (from pypi-json) (23.0)\n",
      "Requirement already satisfied: requests>=2.26.0 in /Users/youssefawad/anaconda3/lib/python3.11/site-packages (from pypi-json) (2.31.0)\n",
      "Requirement already satisfied: apeye-core>=1.0.0b2 in /Users/youssefawad/anaconda3/lib/python3.11/site-packages (from apeye>=1.1.0->pypi-json) (1.1.4)\n",
      "Requirement already satisfied: domdf-python-tools>=2.6.0 in /Users/youssefawad/anaconda3/lib/python3.11/site-packages (from apeye>=1.1.0->pypi-json) (3.7.0)\n",
      "Requirement already satisfied: platformdirs>=2.3.0 in /Users/youssefawad/anaconda3/lib/python3.11/site-packages (from apeye>=1.1.0->pypi-json) (2.5.2)\n",
      "Requirement already satisfied: charset-normalizer<4,>=2 in /Users/youssefawad/anaconda3/lib/python3.11/site-packages (from requests>=2.26.0->pypi-json) (2.0.4)\n",
      "Requirement already satisfied: idna<4,>=2.5 in /Users/youssefawad/anaconda3/lib/python3.11/site-packages (from requests>=2.26.0->pypi-json) (3.4)\n",
      "Requirement already satisfied: urllib3<3,>=1.21.1 in /Users/youssefawad/anaconda3/lib/python3.11/site-packages (from requests>=2.26.0->pypi-json) (1.26.16)\n",
      "Requirement already satisfied: certifi>=2017.4.17 in /Users/youssefawad/anaconda3/lib/python3.11/site-packages (from requests>=2.26.0->pypi-json) (2023.7.22)\n",
      "Requirement already satisfied: natsort>=7.0.1 in /Users/youssefawad/anaconda3/lib/python3.11/site-packages (from domdf-python-tools>=2.6.0->apeye>=1.1.0->pypi-json) (8.4.0)\n",
      "Requirement already satisfied: typing-extensions>=3.7.4.1 in /Users/youssefawad/anaconda3/lib/python3.11/site-packages (from domdf-python-tools>=2.6.0->apeye>=1.1.0->pypi-json) (4.8.0)\n",
      "Requirement already satisfied: pyngrok in /Users/youssefawad/anaconda3/lib/python3.11/site-packages (7.0.3)\n",
      "Requirement already satisfied: PyYAML in /Users/youssefawad/anaconda3/lib/python3.11/site-packages (from pyngrok) (6.0)\n",
      "Requirement already satisfied: nest-asyncio in /Users/youssefawad/anaconda3/lib/python3.11/site-packages (1.5.6)\n"
     ]
    }
   ],
   "source": [
    "!pip install typing-extensions==4.8.0\n",
    "!pip install fastapi\n",
    "!pip install uvicorn\n",
    "!pip install pydantic\n",
    "!pip install requests\n",
    "!pip install pypi-json\n",
    "!pip install pyngrok\n",
    "!pip install nest-asyncio"
   ]
  },
  {
   "cell_type": "code",
   "execution_count": 2,
   "metadata": {},
   "outputs": [],
   "source": [
    "from fastapi import FastAPI\n",
    "from pydantic import BaseModel\n",
    "import json\n",
    "import uvicorn\n",
    "from pyngrok import ngrok\n",
    "from fastapi.middleware.cors import CORSMiddleware\n",
    "import nest_asyncio\n",
    "import torch\n",
    "from transformers import pipeline"
   ]
  },
  {
   "cell_type": "code",
   "execution_count": 3,
   "metadata": {},
   "outputs": [],
   "source": [
    "app = FastAPI()"
   ]
  },
  {
   "cell_type": "code",
   "execution_count": 4,
   "metadata": {},
   "outputs": [],
   "source": [
    "origins = [\"*\"]\n",
    "\n",
    "app.add_middleware(\n",
    "    CORSMiddleware,\n",
    "    allow_origins=origins,\n",
    "    allow_credentials=True,\n",
    "    allow_methods=[\"*\"],\n",
    "    allow_headers=[\"*\"],\n",
    ")"
   ]
  },
  {
   "cell_type": "code",
   "execution_count": 5,
   "metadata": {},
   "outputs": [],
   "source": [
    "class model_input(BaseModel):\n",
    "    \n",
    "    text : str"
   ]
  },
  {
   "cell_type": "code",
   "execution_count": 6,
   "metadata": {},
   "outputs": [
    {
     "ename": "FileNotFoundError",
     "evalue": "[Errno 2] No such file or directory: 'C:\\\\Users\\\\Awad.Youssef.K\\\\Downloads\\\\model.sav'",
     "output_type": "error",
     "traceback": [
      "\u001b[0;31m---------------------------------------------------------------------------\u001b[0m",
      "\u001b[0;31mFileNotFoundError\u001b[0m                         Traceback (most recent call last)",
      "\u001b[1;32m/Users/youssefawad/Projects/SOC/Untitled_3.ipynb Cell 6\u001b[0m line \u001b[0;36m1\n\u001b[0;32m----> <a href='vscode-notebook-cell:/Users/youssefawad/Projects/SOC/Untitled_3.ipynb#W5sZmlsZQ%3D%3D?line=0'>1</a>\u001b[0m loaded_model \u001b[39m=\u001b[39m torch\u001b[39m.\u001b[39mload(\u001b[39mopen\u001b[39m(\u001b[39mr\u001b[39m\u001b[39m\"\u001b[39m\u001b[39mC:\u001b[39m\u001b[39m\\\u001b[39m\u001b[39mUsers\u001b[39m\u001b[39m\\\u001b[39m\u001b[39mAwad.Youssef.K\u001b[39m\u001b[39m\\\u001b[39m\u001b[39mDownloads\u001b[39m\u001b[39m\\\u001b[39m\u001b[39mmodel.sav\u001b[39m\u001b[39m\"\u001b[39m, \u001b[39m'\u001b[39m\u001b[39mrb\u001b[39m\u001b[39m'\u001b[39m), map_location\u001b[39m=\u001b[39mtorch\u001b[39m.\u001b[39mdevice(\u001b[39m'\u001b[39m\u001b[39mcpu\u001b[39m\u001b[39m'\u001b[39m))\n\u001b[1;32m      <a href='vscode-notebook-cell:/Users/youssefawad/Projects/SOC/Untitled_3.ipynb#W5sZmlsZQ%3D%3D?line=1'>2</a>\u001b[0m loaded_tokenizer \u001b[39m=\u001b[39m torch\u001b[39m.\u001b[39mload(\u001b[39mopen\u001b[39m(\u001b[39mr\u001b[39m\u001b[39m\"\u001b[39m\u001b[39mC:\u001b[39m\u001b[39m\\\u001b[39m\u001b[39mUsers\u001b[39m\u001b[39m\\\u001b[39m\u001b[39mAwad.Youssef.K\u001b[39m\u001b[39m\\\u001b[39m\u001b[39mDownloads\u001b[39m\u001b[39m\\\u001b[39m\u001b[39mtokenizer.sav\u001b[39m\u001b[39m\"\u001b[39m, \u001b[39m'\u001b[39m\u001b[39mrb\u001b[39m\u001b[39m'\u001b[39m), map_location\u001b[39m=\u001b[39mtorch\u001b[39m.\u001b[39mdevice(\u001b[39m'\u001b[39m\u001b[39mcpu\u001b[39m\u001b[39m'\u001b[39m))\n\u001b[1;32m      <a href='vscode-notebook-cell:/Users/youssefawad/Projects/SOC/Untitled_3.ipynb#W5sZmlsZQ%3D%3D?line=3'>4</a>\u001b[0m classifier \u001b[39m=\u001b[39m pipeline(task\u001b[39m=\u001b[39m\u001b[39m\"\u001b[39m\u001b[39mtext-classification\u001b[39m\u001b[39m\"\u001b[39m, model\u001b[39m=\u001b[39mloaded_model, tokenizer\u001b[39m=\u001b[39mloaded_tokenizer, device\u001b[39m=\u001b[39m\u001b[39m\"\u001b[39m\u001b[39mcpu\u001b[39m\u001b[39m\"\u001b[39m, return_all_scores\u001b[39m=\u001b[39m\u001b[39mTrue\u001b[39;00m)\n",
      "File \u001b[0;32m~/anaconda3/lib/python3.11/site-packages/IPython/core/interactiveshell.py:284\u001b[0m, in \u001b[0;36m_modified_open\u001b[0;34m(file, *args, **kwargs)\u001b[0m\n\u001b[1;32m    277\u001b[0m \u001b[39mif\u001b[39;00m file \u001b[39min\u001b[39;00m {\u001b[39m0\u001b[39m, \u001b[39m1\u001b[39m, \u001b[39m2\u001b[39m}:\n\u001b[1;32m    278\u001b[0m     \u001b[39mraise\u001b[39;00m \u001b[39mValueError\u001b[39;00m(\n\u001b[1;32m    279\u001b[0m         \u001b[39mf\u001b[39m\u001b[39m\"\u001b[39m\u001b[39mIPython won\u001b[39m\u001b[39m'\u001b[39m\u001b[39mt let you open fd=\u001b[39m\u001b[39m{\u001b[39;00mfile\u001b[39m}\u001b[39;00m\u001b[39m by default \u001b[39m\u001b[39m\"\u001b[39m\n\u001b[1;32m    280\u001b[0m         \u001b[39m\"\u001b[39m\u001b[39mas it is likely to crash IPython. If you know what you are doing, \u001b[39m\u001b[39m\"\u001b[39m\n\u001b[1;32m    281\u001b[0m         \u001b[39m\"\u001b[39m\u001b[39myou can use builtins\u001b[39m\u001b[39m'\u001b[39m\u001b[39m open.\u001b[39m\u001b[39m\"\u001b[39m\n\u001b[1;32m    282\u001b[0m     )\n\u001b[0;32m--> 284\u001b[0m \u001b[39mreturn\u001b[39;00m io_open(file, \u001b[39m*\u001b[39margs, \u001b[39m*\u001b[39m\u001b[39m*\u001b[39mkwargs)\n",
      "\u001b[0;31mFileNotFoundError\u001b[0m: [Errno 2] No such file or directory: 'C:\\\\Users\\\\Awad.Youssef.K\\\\Downloads\\\\model.sav'"
     ]
    }
   ],
   "source": [
    "loaded_model = torch.load(open(r\"C:\\Users\\Awad.Youssef.K\\Downloads\\model.sav\", 'rb'), map_location=torch.device('cpu'))\n",
    "loaded_tokenizer = torch.load(open(r\"C:\\Users\\Awad.Youssef.K\\Downloads\\tokenizer.sav\", 'rb'), map_location=torch.device('cpu'))\n",
    "\n",
    "classifier = pipeline(task=\"text-classification\", model=loaded_model, tokenizer=loaded_tokenizer, device=\"cpu\", return_all_scores=True)"
   ]
  },
  {
   "cell_type": "code",
   "execution_count": null,
   "metadata": {},
   "outputs": [],
   "source": [
    "@app.post('/soc_prediction')\n",
    "def soc_pred(input_parameters: model_input):\n",
    "    \n",
    "    input_data = input_parameters.json()\n",
    "    input_dictionary = json.loads(input_data)\n",
    "    \n",
    "    text = input_dictionary['text']\n",
    "    \n",
    "    prediction = sorted(classifier(text)[0], key=lambda x: x['score'], reverse=True)[:5]\n",
    "    \n",
    "    return prediction"
   ]
  },
  {
   "cell_type": "code",
   "execution_count": null,
   "metadata": {},
   "outputs": [
    {
     "name": "stdout",
     "output_type": "stream",
     "text": [
      "Public URL: https://32ce-152-180-11-5.ngrok.io\n"
     ]
    },
    {
     "name": "stderr",
     "output_type": "stream",
     "text": [
      "INFO:     Started server process [14624]\n",
      "INFO:     Waiting for application startup.\n",
      "INFO:     Application startup complete.\n",
      "INFO:     Uvicorn running on http://127.0.0.1:8000 (Press CTRL+C to quit)\n"
     ]
    },
    {
     "name": "stdout",
     "output_type": "stream",
     "text": [
      "INFO:     54.157.94.67:0 - \"POST /soc_prediction HTTP/1.1\" 200 OK\n",
      "INFO:     54.157.94.67:0 - \"POST /soc_prediction HTTP/1.1\" 200 OK\n",
      "INFO:     54.157.94.67:0 - \"POST /soc_prediction HTTP/1.1\" 200 OK\n",
      "INFO:     54.157.94.67:0 - \"POST /soc_prediction HTTP/1.1\" 200 OK\n",
      "INFO:     54.157.94.67:0 - \"POST /soc_prediction HTTP/1.1\" 200 OK\n",
      "INFO:     54.157.94.67:0 - \"POST /soc_prediction HTTP/1.1\" 200 OK\n",
      "INFO:     54.157.94.67:0 - \"POST /soc_prediction HTTP/1.1\" 200 OK\n",
      "INFO:     54.157.94.67:0 - \"POST /soc_prediction HTTP/1.1\" 200 OK\n",
      "INFO:     54.157.94.67:0 - \"POST /soc_prediction HTTP/1.1\" 200 OK\n",
      "INFO:     54.157.94.67:0 - \"POST /soc_prediction HTTP/1.1\" 200 OK\n",
      "INFO:     54.157.94.67:0 - \"POST /soc_prediction HTTP/1.1\" 200 OK\n",
      "INFO:     54.157.94.67:0 - \"POST /soc_prediction HTTP/1.1\" 200 OK\n",
      "INFO:     54.157.94.67:0 - \"POST /soc_prediction HTTP/1.1\" 200 OK\n",
      "INFO:     54.157.94.67:0 - \"POST /soc_prediction HTTP/1.1\" 200 OK\n",
      "INFO:     54.157.94.67:0 - \"POST /soc_prediction HTTP/1.1\" 200 OK\n"
     ]
    },
    {
     "name": "stderr",
     "output_type": "stream",
     "text": [
      "INFO:     Shutting down\n",
      "INFO:     Waiting for application shutdown.\n",
      "INFO:     Application shutdown complete.\n",
      "INFO:     Finished server process [14624]\n"
     ]
    },
    {
     "name": "stderr",
     "output_type": "stream",
     "text": [
      "t=2023-12-05T18:42:47-0500 lvl=eror msg=\"session closed, starting reconnect loop\" obj=tunnels.session obj=csess id=fcdaa28d4013 err=\"read tcp 10.190.43.149:56331->3.16.250.205:443: wsarecv: An established connection was aborted by the software in your host machine.\"\n",
      "t=2023-12-05T18:42:48-0500 lvl=eror msg=\"failed to reconnect session\" obj=tunnels.session obj=csess id=fcdaa28d4013 err=\"failed to dial ngrok server with address \\\"connect.us.ngrok-agent.com:443\\\": dial tcp: lookup connect.us.ngrok-agent.com: getaddrinfow: The requested name is valid, but no data of the requested type was found.\"\n",
      "t=2023-12-05T18:42:48-0500 lvl=eror msg=\"failed to reconnect session\" obj=tunnels.session obj=csess id=fcdaa28d4013 err=\"failed to dial ngrok server with address \\\"connect.us.ngrok-agent.com:443\\\": dial tcp: lookup connect.us.ngrok-agent.com: getaddrinfow: The requested name is valid, but no data of the requested type was found.\"\n",
      "t=2023-12-05T18:43:06-0500 lvl=eror msg=\"heartbeat timeout, terminating session\" obj=tunnels.session obj=csess id=35de49c01d9c clientid=7de3c46cb21741d9dd1e2a38a902f4ac\n",
      "t=2023-12-05T18:43:14-0500 lvl=eror msg=\"heartbeat timeout, terminating session\" obj=tunnels.session obj=csess id=3cc8c10be010 clientid=7de3c46cb21741d9dd1e2a38a902f4ac\n",
      "t=2023-12-05T18:43:14-0500 lvl=eror msg=\"session closed, starting reconnect loop\" obj=tunnels.session obj=csess id=fcdaa28d4013 err=\"session closed\"\n",
      "t=2023-12-05T18:43:14-0500 lvl=eror msg=\"failed to reconnect session\" obj=tunnels.session obj=csess id=fcdaa28d4013 err=\"failed to send authentication request: tls: failed to verify certificate: x509: certificate signed by unknown authority\"\n",
      "t=2023-12-05T18:43:15-0500 lvl=eror msg=\"failed to reconnect session\" obj=tunnels.session obj=csess id=fcdaa28d4013 err=\"failed to send authentication request: tls: failed to verify certificate: x509: certificate signed by unknown authority\"\n",
      "t=2023-12-05T18:43:16-0500 lvl=eror msg=\"failed to reconnect session\" obj=tunnels.session obj=csess id=fcdaa28d4013 err=\"failed to send authentication request: tls: failed to verify certificate: x509: certificate signed by unknown authority\"\n",
      "t=2023-12-05T18:43:18-0500 lvl=eror msg=\"failed to reconnect session\" obj=tunnels.session obj=csess id=fcdaa28d4013 err=\"failed to send authentication request: tls: failed to verify certificate: x509: certificate signed by unknown authority\"\n",
      "t=2023-12-05T18:43:22-0500 lvl=eror msg=\"failed to reconnect session\" obj=tunnels.session obj=csess id=fcdaa28d4013 err=\"failed to send authentication request: tls: failed to verify certificate: x509: certificate signed by unknown authority\"\n",
      "t=2023-12-05T18:43:30-0500 lvl=eror msg=\"failed to reconnect session\" obj=tunnels.session obj=csess id=fcdaa28d4013 err=\"failed to send authentication request: tls: failed to verify certificate: x509: certificate signed by unknown authority\"\n",
      "t=2023-12-05T18:43:47-0500 lvl=eror msg=\"failed to reconnect session\" obj=tunnels.session obj=csess id=fcdaa28d4013 err=\"failed to send authentication request: tls: failed to verify certificate: x509: certificate signed by unknown authority\"\n",
      "t=2023-12-05T22:11:41-0500 lvl=eror msg=\"failed to reconnect session\" obj=tunnels.session obj=csess id=fcdaa28d4013 err=\"failed to send authentication request: tls: failed to verify certificate: x509: certificate signed by unknown authority\"\n",
      "t=2023-12-05T22:12:11-0500 lvl=eror msg=\"failed to reconnect session\" obj=tunnels.session obj=csess id=fcdaa28d4013 err=\"failed to send authentication request: tls: failed to verify certificate: x509: certificate signed by unknown authority\"\n",
      "t=2023-12-05T22:12:41-0500 lvl=eror msg=\"failed to reconnect session\" obj=tunnels.session obj=csess id=fcdaa28d4013 err=\"failed to send authentication request: tls: failed to verify certificate: x509: certificate signed by unknown authority\"\n",
      "t=2023-12-05T22:20:57-0500 lvl=eror msg=\"failed to reconnect session\" obj=tunnels.session obj=csess id=fcdaa28d4013 err=\"failed to send authentication request: tls: failed to verify certificate: x509: certificate signed by unknown authority\"\n",
      "t=2023-12-05T22:23:13-0500 lvl=eror msg=\"failed to reconnect session\" obj=tunnels.session obj=csess id=fcdaa28d4013 err=\"failed to send authentication request: tls: failed to verify certificate: x509: certificate signed by unknown authority\"\n",
      "t=2023-12-06T01:50:10-0500 lvl=eror msg=\"failed to reconnect session\" obj=tunnels.session obj=csess id=fcdaa28d4013 err=\"failed to send authentication request: tls: failed to verify certificate: x509: certificate signed by unknown authority\"\n",
      "t=2023-12-06T01:50:40-0500 lvl=eror msg=\"failed to reconnect session\" obj=tunnels.session obj=csess id=fcdaa28d4013 err=\"failed to send authentication request: tls: failed to verify certificate: x509: certificate signed by unknown authority\"\n",
      "t=2023-12-06T01:51:10-0500 lvl=eror msg=\"failed to reconnect session\" obj=tunnels.session obj=csess id=fcdaa28d4013 err=\"failed to send authentication request: tls: failed to verify certificate: x509: certificate signed by unknown authority\"\n",
      "t=2023-12-06T01:51:40-0500 lvl=eror msg=\"failed to reconnect session\" obj=tunnels.session obj=csess id=fcdaa28d4013 err=\"failed to send authentication request: tls: failed to verify certificate: x509: certificate signed by unknown authority\"\n",
      "t=2023-12-06T01:52:10-0500 lvl=eror msg=\"failed to reconnect session\" obj=tunnels.session obj=csess id=fcdaa28d4013 err=\"failed to send authentication request: tls: failed to verify certificate: x509: certificate signed by unknown authority\"\n",
      "t=2023-12-06T01:52:41-0500 lvl=eror msg=\"failed to reconnect session\" obj=tunnels.session obj=csess id=fcdaa28d4013 err=\"failed to send authentication request: tls: failed to verify certificate: x509: certificate signed by unknown authority\"\n",
      "t=2023-12-06T01:53:11-0500 lvl=eror msg=\"failed to reconnect session\" obj=tunnels.session obj=csess id=fcdaa28d4013 err=\"failed to send authentication request: tls: failed to verify certificate: x509: certificate signed by unknown authority\"\n",
      "t=2023-12-06T01:53:41-0500 lvl=eror msg=\"failed to reconnect session\" obj=tunnels.session obj=csess id=fcdaa28d4013 err=\"failed to send authentication request: tls: failed to verify certificate: x509: certificate signed by unknown authority\"\n",
      "t=2023-12-06T02:00:01-0500 lvl=eror msg=\"failed to reconnect session\" obj=tunnels.session obj=csess id=fcdaa28d4013 err=\"failed to send authentication request: tls: failed to verify certificate: x509: certificate signed by unknown authority\"\n",
      "t=2023-12-06T02:02:14-0500 lvl=eror msg=\"failed to reconnect session\" obj=tunnels.session obj=csess id=fcdaa28d4013 err=\"failed to send authentication request: tls: failed to verify certificate: x509: certificate signed by unknown authority\"\n",
      "t=2023-12-06T03:02:18-0500 lvl=eror msg=\"failed to reconnect session\" obj=tunnels.session obj=csess id=fcdaa28d4013 err=\"failed to send authentication request: tls: failed to verify certificate: x509: certificate signed by unknown authority\"\n",
      "t=2023-12-06T03:02:48-0500 lvl=eror msg=\"failed to reconnect session\" obj=tunnels.session obj=csess id=fcdaa28d4013 err=\"failed to send authentication request: tls: failed to verify certificate: x509: certificate signed by unknown authority\"\n",
      "t=2023-12-06T03:10:34-0500 lvl=eror msg=\"failed to reconnect session\" obj=tunnels.session obj=csess id=fcdaa28d4013 err=\"failed to send authentication request: tls: failed to verify certificate: x509: certificate signed by unknown authority\"\n",
      "t=2023-12-06T09:01:45-0500 lvl=eror msg=\"failed to reconnect session\" obj=tunnels.session obj=csess id=fcdaa28d4013 err=\"failed to send authentication request: tls: failed to verify certificate: x509: certificate signed by unknown authority\"\n",
      "t=2023-12-06T09:02:16-0500 lvl=eror msg=\"failed to reconnect session\" obj=tunnels.session obj=csess id=fcdaa28d4013 err=\"failed to send authentication request: tls: failed to verify certificate: x509: certificate signed by unknown authority\"\n",
      "t=2023-12-06T09:02:46-0500 lvl=eror msg=\"failed to reconnect session\" obj=tunnels.session obj=csess id=fcdaa28d4013 err=\"failed to send authentication request: tls: failed to verify certificate: x509: certificate signed by unknown authority\"\n",
      "t=2023-12-06T09:03:16-0500 lvl=eror msg=\"failed to reconnect session\" obj=tunnels.session obj=csess id=fcdaa28d4013 err=\"failed to send authentication request: tls: failed to verify certificate: x509: certificate signed by unknown authority\"\n",
      "t=2023-12-06T09:03:46-0500 lvl=eror msg=\"failed to reconnect session\" obj=tunnels.session obj=csess id=fcdaa28d4013 err=\"failed to send authentication request: tls: failed to verify certificate: x509: certificate signed by unknown authority\"\n",
      "t=2023-12-06T09:04:16-0500 lvl=eror msg=\"failed to reconnect session\" obj=tunnels.session obj=csess id=fcdaa28d4013 err=\"failed to send authentication request: tls: failed to verify certificate: x509: certificate signed by unknown authority\"\n",
      "t=2023-12-06T09:04:47-0500 lvl=eror msg=\"failed to reconnect session\" obj=tunnels.session obj=csess id=fcdaa28d4013 err=\"failed to send authentication request: tls: failed to verify certificate: x509: certificate signed by unknown authority\"\n",
      "t=2023-12-06T09:05:17-0500 lvl=eror msg=\"failed to reconnect session\" obj=tunnels.session obj=csess id=fcdaa28d4013 err=\"failed to send authentication request: tls: failed to verify certificate: x509: certificate signed by unknown authority\"\n",
      "t=2023-12-06T09:05:47-0500 lvl=eror msg=\"failed to reconnect session\" obj=tunnels.session obj=csess id=fcdaa28d4013 err=\"failed to send authentication request: tls: failed to verify certificate: x509: certificate signed by unknown authority\"\n",
      "t=2023-12-06T09:06:17-0500 lvl=eror msg=\"failed to reconnect session\" obj=tunnels.session obj=csess id=fcdaa28d4013 err=\"failed to send authentication request: tls: failed to verify certificate: x509: certificate signed by unknown authority\"\n",
      "t=2023-12-06T09:06:47-0500 lvl=eror msg=\"failed to reconnect session\" obj=tunnels.session obj=csess id=fcdaa28d4013 err=\"failed to send authentication request: tls: failed to verify certificate: x509: certificate signed by unknown authority\"\n",
      "t=2023-12-06T09:07:17-0500 lvl=eror msg=\"failed to reconnect session\" obj=tunnels.session obj=csess id=fcdaa28d4013 err=\"failed to send authentication request: tls: failed to verify certificate: x509: certificate signed by unknown authority\"\n",
      "t=2023-12-06T09:07:47-0500 lvl=eror msg=\"failed to reconnect session\" obj=tunnels.session obj=csess id=fcdaa28d4013 err=\"failed to send authentication request: tls: failed to verify certificate: x509: certificate signed by unknown authority\"\n",
      "t=2023-12-06T09:08:18-0500 lvl=eror msg=\"failed to reconnect session\" obj=tunnels.session obj=csess id=fcdaa28d4013 err=\"failed to send authentication request: tls: failed to verify certificate: x509: certificate signed by unknown authority\"\n",
      "t=2023-12-06T09:08:48-0500 lvl=eror msg=\"failed to reconnect session\" obj=tunnels.session obj=csess id=fcdaa28d4013 err=\"failed to send authentication request: tls: failed to verify certificate: x509: certificate signed by unknown authority\"\n",
      "t=2023-12-06T09:09:18-0500 lvl=eror msg=\"failed to reconnect session\" obj=tunnels.session obj=csess id=fcdaa28d4013 err=\"failed to send authentication request: tls: failed to verify certificate: x509: certificate signed by unknown authority\"\n",
      "t=2023-12-06T09:09:48-0500 lvl=eror msg=\"failed to reconnect session\" obj=tunnels.session obj=csess id=fcdaa28d4013 err=\"failed to send authentication request: tls: failed to verify certificate: x509: certificate signed by unknown authority\"\n",
      "t=2023-12-06T09:10:18-0500 lvl=eror msg=\"failed to reconnect session\" obj=tunnels.session obj=csess id=fcdaa28d4013 err=\"failed to send authentication request: tls: failed to verify certificate: x509: certificate signed by unknown authority\"\n",
      "t=2023-12-06T09:10:49-0500 lvl=eror msg=\"failed to reconnect session\" obj=tunnels.session obj=csess id=fcdaa28d4013 err=\"failed to send authentication request: tls: failed to verify certificate: x509: certificate signed by unknown authority\"\n",
      "t=2023-12-06T09:11:19-0500 lvl=eror msg=\"failed to reconnect session\" obj=tunnels.session obj=csess id=fcdaa28d4013 err=\"failed to send authentication request: tls: failed to verify certificate: x509: certificate signed by unknown authority\"\n",
      "t=2023-12-06T09:11:49-0500 lvl=eror msg=\"failed to reconnect session\" obj=tunnels.session obj=csess id=fcdaa28d4013 err=\"failed to send authentication request: tls: failed to verify certificate: x509: certificate signed by unknown authority\"\n",
      "t=2023-12-06T09:12:19-0500 lvl=eror msg=\"failed to reconnect session\" obj=tunnels.session obj=csess id=fcdaa28d4013 err=\"failed to send authentication request: tls: failed to verify certificate: x509: certificate signed by unknown authority\"\n",
      "t=2023-12-06T09:12:49-0500 lvl=eror msg=\"failed to reconnect session\" obj=tunnels.session obj=csess id=fcdaa28d4013 err=\"failed to send authentication request: tls: failed to verify certificate: x509: certificate signed by unknown authority\"\n",
      "t=2023-12-06T09:13:19-0500 lvl=eror msg=\"failed to reconnect session\" obj=tunnels.session obj=csess id=fcdaa28d4013 err=\"failed to send authentication request: tls: failed to verify certificate: x509: certificate signed by unknown authority\"\n",
      "t=2023-12-06T09:13:50-0500 lvl=eror msg=\"failed to reconnect session\" obj=tunnels.session obj=csess id=fcdaa28d4013 err=\"failed to send authentication request: tls: failed to verify certificate: x509: certificate signed by unknown authority\"\n",
      "t=2023-12-06T09:14:20-0500 lvl=eror msg=\"failed to reconnect session\" obj=tunnels.session obj=csess id=fcdaa28d4013 err=\"failed to send authentication request: tls: failed to verify certificate: x509: certificate signed by unknown authority\"\n",
      "t=2023-12-06T09:14:50-0500 lvl=eror msg=\"failed to reconnect session\" obj=tunnels.session obj=csess id=fcdaa28d4013 err=\"failed to send authentication request: tls: failed to verify certificate: x509: certificate signed by unknown authority\"\n",
      "t=2023-12-06T09:15:20-0500 lvl=eror msg=\"failed to reconnect session\" obj=tunnels.session obj=csess id=fcdaa28d4013 err=\"failed to send authentication request: tls: failed to verify certificate: x509: certificate signed by unknown authority\"\n",
      "t=2023-12-06T09:15:50-0500 lvl=eror msg=\"failed to reconnect session\" obj=tunnels.session obj=csess id=fcdaa28d4013 err=\"failed to send authentication request: tls: failed to verify certificate: x509: certificate signed by unknown authority\"\n",
      "t=2023-12-06T09:16:20-0500 lvl=eror msg=\"failed to reconnect session\" obj=tunnels.session obj=csess id=fcdaa28d4013 err=\"failed to send authentication request: tls: failed to verify certificate: x509: certificate signed by unknown authority\"\n",
      "t=2023-12-06T09:16:51-0500 lvl=eror msg=\"failed to reconnect session\" obj=tunnels.session obj=csess id=fcdaa28d4013 err=\"failed to send authentication request: tls: failed to verify certificate: x509: certificate signed by unknown authority\"\n",
      "t=2023-12-06T09:17:21-0500 lvl=eror msg=\"failed to reconnect session\" obj=tunnels.session obj=csess id=fcdaa28d4013 err=\"failed to send authentication request: tls: failed to verify certificate: x509: certificate signed by unknown authority\"\n",
      "t=2023-12-06T09:17:51-0500 lvl=eror msg=\"failed to reconnect session\" obj=tunnels.session obj=csess id=fcdaa28d4013 err=\"failed to send authentication request: tls: failed to verify certificate: x509: certificate signed by unknown authority\"\n",
      "t=2023-12-06T09:18:21-0500 lvl=eror msg=\"failed to reconnect session\" obj=tunnels.session obj=csess id=fcdaa28d4013 err=\"failed to send authentication request: tls: failed to verify certificate: x509: certificate signed by unknown authority\"\n",
      "t=2023-12-06T09:18:51-0500 lvl=eror msg=\"failed to reconnect session\" obj=tunnels.session obj=csess id=fcdaa28d4013 err=\"failed to send authentication request: tls: failed to verify certificate: x509: certificate signed by unknown authority\"\n",
      "t=2023-12-06T09:19:21-0500 lvl=eror msg=\"failed to reconnect session\" obj=tunnels.session obj=csess id=fcdaa28d4013 err=\"failed to send authentication request: tls: failed to verify certificate: x509: certificate signed by unknown authority\"\n",
      "t=2023-12-06T09:19:51-0500 lvl=eror msg=\"failed to reconnect session\" obj=tunnels.session obj=csess id=fcdaa28d4013 err=\"failed to send authentication request: tls: failed to verify certificate: x509: certificate signed by unknown authority\"\n",
      "t=2023-12-06T09:20:22-0500 lvl=eror msg=\"failed to reconnect session\" obj=tunnels.session obj=csess id=fcdaa28d4013 err=\"failed to send authentication request: tls: failed to verify certificate: x509: certificate signed by unknown authority\"\n",
      "t=2023-12-06T09:20:52-0500 lvl=eror msg=\"failed to reconnect session\" obj=tunnels.session obj=csess id=fcdaa28d4013 err=\"failed to send authentication request: tls: failed to verify certificate: x509: certificate signed by unknown authority\"\n",
      "t=2023-12-06T09:21:22-0500 lvl=eror msg=\"failed to reconnect session\" obj=tunnels.session obj=csess id=fcdaa28d4013 err=\"failed to send authentication request: tls: failed to verify certificate: x509: certificate signed by unknown authority\"\n",
      "t=2023-12-06T09:21:52-0500 lvl=eror msg=\"failed to reconnect session\" obj=tunnels.session obj=csess id=fcdaa28d4013 err=\"failed to send authentication request: tls: failed to verify certificate: x509: certificate signed by unknown authority\"\n",
      "t=2023-12-06T09:22:22-0500 lvl=eror msg=\"failed to reconnect session\" obj=tunnels.session obj=csess id=fcdaa28d4013 err=\"failed to send authentication request: tls: failed to verify certificate: x509: certificate signed by unknown authority\"\n",
      "t=2023-12-06T09:22:52-0500 lvl=eror msg=\"failed to reconnect session\" obj=tunnels.session obj=csess id=fcdaa28d4013 err=\"failed to send authentication request: tls: failed to verify certificate: x509: certificate signed by unknown authority\"\n",
      "t=2023-12-06T09:23:22-0500 lvl=eror msg=\"failed to reconnect session\" obj=tunnels.session obj=csess id=fcdaa28d4013 err=\"failed to send authentication request: tls: failed to verify certificate: x509: certificate signed by unknown authority\"\n"
     ]
    }
   ],
   "source": [
    "ngrok_tunnel = ngrok.connect(8000)\n",
    "print('Public URL:', ngrok_tunnel.public_url)\n",
    "nest_asyncio.apply()\n",
    "uvicorn.run(app, port=8000)"
   ]
  }
 ],
 "metadata": {
  "kernelspec": {
   "display_name": "base",
   "language": "python",
   "name": "python3"
  },
  "language_info": {
   "codemirror_mode": {
    "name": "ipython",
    "version": 3
   },
   "file_extension": ".py",
   "mimetype": "text/x-python",
   "name": "python",
   "nbconvert_exporter": "python",
   "pygments_lexer": "ipython3",
   "version": "3.11.4"
  }
 },
 "nbformat": 4,
 "nbformat_minor": 2
}
