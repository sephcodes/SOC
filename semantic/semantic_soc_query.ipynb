{
 "cells": [
  {
   "cell_type": "code",
   "execution_count": 1,
   "metadata": {},
   "outputs": [],
   "source": [
    "import os\n",
    "from supabase import create_client, Client\n",
    "\n",
    "url: str = os.environ.get(\"SUPABASE_URL\")\n",
    "key: str = os.environ.get(\"SUPABASE_KEY\")\n",
    "supabase: Client = create_client(url, key)"
   ]
  },
  {
   "cell_type": "code",
   "execution_count": 2,
   "metadata": {},
   "outputs": [],
   "source": [
    "import vecs\n",
    "\n",
    "DB_CONNECTION = os.environ['SUPABASE_POSTGRE']\n",
    "\n",
    "# create vector store client\n",
    "vx = vecs.create_client(DB_CONNECTION)"
   ]
  },
  {
   "cell_type": "code",
   "execution_count": 3,
   "metadata": {},
   "outputs": [],
   "source": [
    "soc = vx.get_or_create_collection(name=\"SOC\", dimension=768)"
   ]
  },
  {
   "cell_type": "code",
   "execution_count": 4,
   "metadata": {},
   "outputs": [
    {
     "name": "stderr",
     "output_type": "stream",
     "text": [
      "2023-12-21 19:04:55,997:INFO - Note: NumExpr detected 10 cores but \"NUMEXPR_MAX_THREADS\" not set, so enforcing safe limit of 8.\n",
      "2023-12-21 19:04:55,997:INFO - NumExpr defaulting to 8 threads.\n",
      "Some weights of the PyTorch model were not used when initializing the TF 2.0 model TFMPNetModel: ['embeddings.position_ids']\n",
      "- This IS expected if you are initializing TFMPNetModel from a PyTorch model trained on another task or with another architecture (e.g. initializing a TFBertForSequenceClassification model from a BertForPreTraining model).\n",
      "- This IS NOT expected if you are initializing TFMPNetModel from a PyTorch model that you expect to be exactly identical (e.g. initializing a TFBertForSequenceClassification model from a BertForSequenceClassification model).\n",
      "All the weights of TFMPNetModel were initialized from the PyTorch model.\n",
      "If your task is similar to the task the model of the checkpoint was trained on, you can already use TFMPNetModel for predictions without further training.\n"
     ]
    }
   ],
   "source": [
    "from transformers import AutoTokenizer, TFAutoModel\n",
    "\n",
    "model_ckpt = \"sentence-transformers/multi-qa-mpnet-base-dot-v1\"\n",
    "tokenizer = AutoTokenizer.from_pretrained(model_ckpt)\n",
    "model = TFAutoModel.from_pretrained(model_ckpt, from_pt=True)"
   ]
  },
  {
   "cell_type": "code",
   "execution_count": 5,
   "metadata": {},
   "outputs": [],
   "source": [
    "def cls_pooling(model_output):\n",
    "    return model_output.last_hidden_state[:, 0]\n",
    "\n",
    "def get_embeddings(text_list):\n",
    "    encoded_input = tokenizer(\n",
    "        text_list, padding=True, truncation=True, return_tensors=\"tf\"\n",
    "    )\n",
    "    encoded_input = {k: v for k, v in encoded_input.items()}\n",
    "    model_output = model(**encoded_input)\n",
    "    return cls_pooling(model_output)"
   ]
  },
  {
   "cell_type": "code",
   "execution_count": 6,
   "metadata": {},
   "outputs": [],
   "source": [
    "# question = \"DUTIES include: apply caulk, sealants, or other agents to installed surfaces; apply grout between joints of bricks or tiles, using grouting trowels; arrange or store materials, machines, tools, or equipment; clean installation surfaces, equipment, tools, work sites, or storage areas, using water, chemical solutions, oxygen lances, or polishing machines; correct surface imperfections or fill chipped, cracked, or broken bricks or tiles, using fillers, adhesives, or grouting materials; cut materials to specified sizes for installation, using power saws or tile cutters; erect scaffolding or other installation structures; locate and supply materials to masons for installation; mix mortar, plaster, and grout, manually or using machines, according to standard formulas; modify material moving, mixing, grouting, grinding, polishing, or cleaning procedures, according to installation or material requirements; move or position materials such as marble slabs, assisting team members using cranes, hoists, or dollies; provide assistance in the preparation, installation, repair, or rebuilding of tile, brick, or stone surfaces; remove damaged tile, brick, or mortar, and clean or prepare surfaces, using pliers, hammers, chisels, drills, wire brushes, or metal wire anchors; remove excess grout or residue from tile or brick joints, using sponges or trowels; transport materials, tools, or machines to installation sites, manually or using conveyance equipment.\"\n",
    "# question = \"Perform variety of attending duties at mobile carnival food concessions.  Set up, tear-down, operate mobile food concessions. The OFLC ETA requested detail on specific portions of these job duties.  Each food stand would have a unit specific protocol. To clarify the portion of the job duties that include set up:  Mobile food concessions are typically mounted in a trailer.  A manager (not an Amusement & Recreation Attendant) would position the trailer(s) at a specific location on the grounds, unhitch the power unit from the trailer, & move the power unit away from the food concessions trailer.  The awnings covering the windows during transit would be raised & secured.  Items such as trash cans, screens, tables that may be positioned outside of the trailer but carried inside of the trailer during transit would be manually moved from inside the trailer to outside.  Trailer would be cleaned, sanitized & stocked with supplies for the event.  Any counters, guidance railings, signage, decorations would be positioned outside of the trailer.  Condiment dispensers, napkin dispensers & trash containers (as are applicable for food items being served) would be set up outside of the trailer.  Set up a limited number of chairs & tables for patron use. Tear down:  Fold & store a limited number of chairs & tables into the trailer for transit.  Condiment dispensers, napkin dispensers & trash containers would be stored in the trailer for transit.  Any counters, guidance railings, signage, decorations that had been positioned outside of the trailer would be stored in the trailer for transit.  Items such as trash cans, screens, tables that may be positioned outside of the trailer but carried inside of the trailer during transit would be manually moved back to inside the trailer.  The awnings covering the windows during transit would be lowered & secured. May include moving/positioning, maintenance, repairs and refurbishment of equipment. OPERATE: On a carnival midway, when there is a mobile food concessions, a stand is limited to selling only one or two specific items, such as cotton candy, popcorn, turkey legs or other specialty foods.  The food is prepared in a production line, where an individual may only perform one task, such as measuring corn & oil into a popper.  The next individual would salt & bag.  The next individual would choose correct bag as per patron order & hand to teller.  The next individual would have taken order, taken money, made change & then hands order to client.  Examples for Cotton Candy: 1) Keeping the sugar & flossine (special powder that adds color to the cotton candy), cotton candy cones & bags in stock in the trailer, or 2) Pouring sugar & flossine into the cotton candy spinner, waiting for the floss to form, carefully twirling the cotton candy paper cone in the tub to form the cotton candy item, when it has reached the proper size, put it into a plastic bag & hang it up; or 3) Take order, money from patron, hand cotton candy to the patron. A worker would typically be performing one of these tasks over & over & not cooking. For Caramel Apples: 1) Take apple from box, inspect to make sure not bruised.  Spear with wooden stick. Dip in Caramel in Crock Pot, then put on tray to cool & set. 2) Take order, money from patron, hand caramel apple to the patron. A worker would typically be performing one of these tasks over & over & not cooking. For Pizzas: 1) Keeping the supplies of pizzas in the trailer. 2) Making the batter & pizza dough, grate cheese, place in oven for the specific time indicated. 3) Slice & display pizza. 4) take order, money from patron, hand pizza to the patron. A worker would typically be performing one of these tasks over & over & not cooking.\"\n",
    "# question = \"Laborers and Freight, Stock, and Material Movers, Hand: Move freight, stock, or other materials to and from storage or production areas, loading docks, delivery vehicles, by hand or using trucks, tractors, or other equipment. Operate a forklift. Maintain equipment and facilities. Monitor production equipment.  Use hand and power tools. Must be able to move/lift heavy objects on a regular basis. Valid Driver's License, Clean MVR, employment reference required. Lift 75 lbs\"\n",
    "# question = \"Reline or repair interior of refractory vessels with refractory clay and other refractory material. Chip slag from linings of ladles or remove linings when beyond repair, using hammers and chisels and other equipment. Mix specified amounts of sand, clay, mortar powder, and water to form refractory clay or mortar, using shovels or mixing machines. Tighten locknuts holding refractory stopper assemblies together, spread mortar on jackets to seal sleeve joints, and dry mortar. Remove worn or damaged block refractory linings of furnaces, kilns, and cyclones using hand tools and other equipment. Climb scaffolding, carrying hoses, and spray surfaces with refractory mixtures, using spray equipment. Construct and installation of refractory material laying by hand and spraying equipment. May perform other duties and tasks per SOC Code 49-9045.\"\n",
    "# question = \"Conduct recreation activities with individual children and groups of children in the 3 to 14 year old age range at recreation facilities such as outdoor or indoor fields or recreation complexes. Activities are soccer games and programs, including recreational guided soccer games, and are aimed at building social and gross motor development in children participants. Activities are geared to the needs and interests of the participants.\"\n",
    "# question = \"duty include apply caulk sealant agent installed surface apply grout joint brick tile using grouting trowel arrange store material machine tool equipment clean installation surface equipment tool work site storage area using water chemical solution oxygen lance polishing machine correct surface imperfection fill chipped cracked broken brick tile using filler adhesive grouting material cut material specified size installation using power saw tile cutter erect scaffolding installation structure locate supply material mason installation mix mortar plaster grout manually using machine according standard formula modify material moving mixing grouting grinding polishing cleaning procedure according installation material requirement move position material marble slab assisting team member using crane hoist dolly provide assistance preparation installation repair rebuilding tile brick stone surface remove damaged tile brick mortar clean prepare surface using plier hammer chisel drill wire brush metal wire anchor remove excess grout residue tile brick joint using sponge trowel transport material tool machine installation site manually using conveyance equipment\"\n",
    "question = \"perform variety attending duty traveling carnival set teardown operate amusement food concession oflc eta requested detail specific portion job duty food concession set tear mobile food concession typically mounted trailer supervisor would position trailer specific location ground unhitch power unit trailer awning covering window transit would raised secured item trash can screen table may positioned outside trailer carried inside trailer transit would manually moved inside trailer outside trailer would cleaned sanitized stocked supply event counter guidance railing signage decoration would positioned outside trailer condiment dispenser napkin dispenser trash container would set outside trailer typically fair event maintains table chair patron instance worker may set limited number chair table patron use teardown would simply duty handled reverse order item stored secured transit next location clarify portion job duty includes operate mobile food concession stand carnival midway mobile food concession stand limited selling one two specific item cotton candy popcorn turkey leg roasted corn specialty food food prepared production line individual may perform one task measuring corn oil popper next individual would salt bag next individual would choose correct bag per customer order hand teller next individual would taken order taken money made change hand order client\"\n",
    "\n",
    "question_embedding = get_embeddings([question]).numpy()"
   ]
  },
  {
   "cell_type": "code",
   "execution_count": 9,
   "metadata": {},
   "outputs": [
    {
     "data": {
      "text/plain": [
       "[('vec15825', 0.235845820488405, {'text': \"SERVE FOOD; MAKE CHANGE; TAKE TICKETS; RUN GAMES; ERECT, TAKE DOWN, ATTEND & MAINTAIN EQUIPMENT; ASSIST PATRONS; HEAVY LIFTING. HOURS & DAYS ... (2818 characters truncated) ... AINTAINING EQUIPMENT\\nMAINTAINING MOBILE AMUSEMENT EQUIPMENT CONSISTS OF\\nVISUALLY INSPECTING EQUIPMENT FOR WEAR AND DAMAGE\\n\", 'label': '39-3091.00'}),\n",
       " ('vec47113', 0.242030428464964, {'text': \"COLLECT TICKETS; SERVE FOOD AND DRINKS; SET UP & RUN GAMES; ERECT, TAKE DOWN, ATTEND & MAINTAIN EQUIPMENT.  HEAVY LIFTING. HOURS, DAYS, AND  ... (2930 characters truncated) ... R AND DAMAGE.\\nMINOR REPAIRS, SUCH AS REPLACING LIGHT BULBS OR OILING PARTS.\\nCLEANING THE EQUIPMENT OR THE AREA AS NEEDED.\\n\", 'label': '35-3022.00'}),\n",
       " ('vec36750', 0.242030428464964, {'text': \"COLLECT TICKETS; SERVE FOOD AND DRINKS; SET UP & RUN GAMES; ERECT, TAKE DOWN, ATTEND & MAINTAIN EQUIPMENT.  HEAVY LIFTING. HOURS, DAYS, AND  ... (2930 characters truncated) ... R AND DAMAGE.\\nMINOR REPAIRS, SUCH AS REPLACING LIGHT BULBS OR OILING PARTS.\\nCLEANING THE EQUIPMENT OR THE AREA AS NEEDED.\\n\", 'label': '35-3022.00'}),\n",
       " ('vec35698', 0.242030428464964, {'text': \"COLLECT TICKETS; SERVE FOOD AND DRINKS; SET UP & RUN GAMES; ERECT, TAKE DOWN, ATTEND & MAINTAIN EQUIPMENT.  HEAVY LIFTING. HOURS, DAYS, AND  ... (2928 characters truncated) ... EAR AND DAMAGE.\\nMINOR REPAIRS, SUCH AS REPLACING LIGHT BULBS OR OILING PARTS.\\nCLEANING THE EQUIPMENT OR THE AREA AS NEEDED.\", 'label': '39-3091.00'}),\n",
       " ('vec24513', 0.242030428464964, {'text': \"COLLECT TICKETS; SERVE FOOD AND DRINKS; SET UP & RUN GAMES; ERECT, TAKE DOWN, ATTEND & MAINTAIN EQUIPMENT.  HEAVY LIFTING. HOURS, DAYS, AND  ... (2928 characters truncated) ... EAR AND DAMAGE.\\nMINOR REPAIRS, SUCH AS REPLACING LIGHT BULBS OR OILING PARTS.\\nCLEANING THE EQUIPMENT OR THE AREA AS NEEDED.\", 'label': '39-3091.00'})]"
      ]
     },
     "execution_count": 9,
     "metadata": {},
     "output_type": "execute_result"
    }
   ],
   "source": [
    "soc.query(\n",
    "    data=question_embedding[0],  # required\n",
    "    limit=5,                     # number of records to return\n",
    "    filters={},                  # metadata filters\n",
    "    measure=\"cosine_distance\",   # distance measure to use\n",
    "    include_value=True,          # should distance measure values be returned?\n",
    "    include_metadata=True,       # should record metadata be returned?\n",
    ")"
   ]
  }
 ],
 "metadata": {
  "kernelspec": {
   "display_name": "base",
   "language": "python",
   "name": "python3"
  },
  "language_info": {
   "codemirror_mode": {
    "name": "ipython",
    "version": 3
   },
   "file_extension": ".py",
   "mimetype": "text/x-python",
   "name": "python",
   "nbconvert_exporter": "python",
   "pygments_lexer": "ipython3",
   "version": "3.11.4"
  }
 },
 "nbformat": 4,
 "nbformat_minor": 2
}
