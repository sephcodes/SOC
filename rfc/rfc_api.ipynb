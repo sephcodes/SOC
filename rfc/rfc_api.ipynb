{
 "cells": [
  {
   "cell_type": "code",
   "execution_count": 1,
   "metadata": {},
   "outputs": [],
   "source": [
    "import joblib\n",
    "import re\n",
    "import nltk\n",
    "import numpy as np\n",
    "import pandas as pd\n",
    "from sklearn import feature_selection, model_selection"
   ]
  },
  {
   "cell_type": "code",
   "execution_count": 2,
   "metadata": {},
   "outputs": [],
   "source": [
    "'''\n",
    "Preprocess a string.\n",
    ":parameter\n",
    "    :param text: string - name of column containing text\n",
    "    :param lst_stopwords: list - list of stopwords to remove\n",
    "    :param flg_stemm: bool - whether stemming is to be applied\n",
    "    :param flg_lemm: bool - whether lemmitisation is to be applied\n",
    ":return\n",
    "    cleaned text\n",
    "'''\n",
    "def utils_preprocess_text(text, flg_stemm=False, flg_lemm=True, lst_stopwords=None):\n",
    "    ## clean (convert to lowercase and remove punctuations and characters and then strip)\n",
    "    text = re.sub(r'[^\\w\\s]', '', str(text).lower().strip())\n",
    "\n",
    "    ## Tokenize (convert from string to list)\n",
    "    lst_text = text.split()\n",
    "    ## remove Stopwords\n",
    "    if lst_stopwords is not None:\n",
    "        lst_text = [word for word in lst_text if word not in\n",
    "                    lst_stopwords]\n",
    "\n",
    "    ## Stemming (remove -ing, -ly, ...)\n",
    "    if flg_stemm == True:\n",
    "        ps = nltk.stem.porter.PorterStemmer()\n",
    "        lst_text = [ps.stem(word) for word in lst_text]\n",
    "\n",
    "    ## Lemmatisation (convert the word into root word)\n",
    "    if flg_lemm == True:\n",
    "        lem = nltk.stem.wordnet.WordNetLemmatizer()\n",
    "        lst_text = [lem.lemmatize(word) for word in lst_text]\n",
    "\n",
    "    ## back to string from list\n",
    "    text = \" \".join(lst_text)\n",
    "    return text"
   ]
  },
  {
   "cell_type": "code",
   "execution_count": 3,
   "metadata": {},
   "outputs": [],
   "source": [
    "lst_stopwords = nltk.corpus.stopwords.words(\"english\")"
   ]
  },
  {
   "cell_type": "code",
   "execution_count": 4,
   "metadata": {},
   "outputs": [
    {
     "data": {
      "text/plain": [
       "'1.2.2'"
      ]
     },
     "execution_count": 4,
     "metadata": {},
     "output_type": "execute_result"
    }
   ],
   "source": [
    "import sklearn\n",
    "sklearn.__version__"
   ]
  },
  {
   "cell_type": "code",
   "execution_count": 5,
   "metadata": {},
   "outputs": [],
   "source": [
    "# !pip install scikit-learn==1.2.2"
   ]
  },
  {
   "cell_type": "code",
   "execution_count": 6,
   "metadata": {},
   "outputs": [],
   "source": [
    "loaded_vectorizer = joblib.load('tfidf_vectorizer.joblib')\n",
    "loaded_classifier = joblib.load('random_forest_model.joblib') #had to change to sklearn version 1.2.2"
   ]
  },
  {
   "cell_type": "code",
   "execution_count": 7,
   "metadata": {},
   "outputs": [],
   "source": [
    "from fastapi import FastAPI\n",
    "from pydantic import BaseModel\n",
    "import json\n",
    "import uvicorn\n",
    "from pyngrok import ngrok\n",
    "from fastapi.middleware.cors import CORSMiddleware\n",
    "import nest_asyncio"
   ]
  },
  {
   "cell_type": "code",
   "execution_count": 8,
   "metadata": {},
   "outputs": [],
   "source": [
    "app = FastAPI()"
   ]
  },
  {
   "cell_type": "code",
   "execution_count": 9,
   "metadata": {},
   "outputs": [],
   "source": [
    "origins = [\"*\"]\n",
    "\n",
    "app.add_middleware(\n",
    "    CORSMiddleware,\n",
    "    allow_origins=origins,\n",
    "    allow_credentials=True,\n",
    "    allow_methods=[\"*\"],\n",
    "    allow_headers=[\"*\"],\n",
    ")"
   ]
  },
  {
   "cell_type": "code",
   "execution_count": 10,
   "metadata": {},
   "outputs": [],
   "source": [
    "class model_input(BaseModel):\n",
    "    \n",
    "    text : str"
   ]
  },
  {
   "cell_type": "code",
   "execution_count": 11,
   "metadata": {},
   "outputs": [],
   "source": [
    "df = pd.read_csv(r'soc_202311261432.csv')\n",
    "df = df.fillna('N/A')"
   ]
  },
  {
   "cell_type": "code",
   "execution_count": 12,
   "metadata": {},
   "outputs": [],
   "source": [
    "df['text_clean'] = df['JOB_DUTIES'].apply(lambda x: utils_preprocess_text(x, flg_stemm=False, flg_lemm=True, lst_stopwords=lst_stopwords))"
   ]
  },
  {
   "cell_type": "code",
   "execution_count": 13,
   "metadata": {},
   "outputs": [],
   "source": [
    "X_train, X_test, y_train, y_test = model_selection.train_test_split(df['text_clean'], df['SOC_CODE'], test_size=0.2, random_state=42)"
   ]
  },
  {
   "cell_type": "code",
   "execution_count": 14,
   "metadata": {},
   "outputs": [],
   "source": [
    "X_train_vectorized = loaded_vectorizer.transform(X_train)"
   ]
  },
  {
   "cell_type": "code",
   "execution_count": 15,
   "metadata": {},
   "outputs": [],
   "source": [
    "#sh pip list"
   ]
  },
  {
   "cell_type": "code",
   "execution_count": 16,
   "metadata": {},
   "outputs": [],
   "source": [
    "X_names = loaded_vectorizer.get_feature_names_out()\n",
    "p_value_limit = 0.99\n",
    "df_features = pd.DataFrame()\n",
    "for cat in np.unique(y_train):\n",
    "    chi2, p = feature_selection.chi2(X_train_vectorized, y_train==cat)\n",
    "    df_features = pd.concat([df_features, pd.DataFrame({'feature':X_names, 'score':1-p, 'y':cat})])\n",
    "    df_features = df_features.sort_values(['y','score'], ascending=[True,False])\n",
    "    df_features = df_features[(df_features['score']>p_value_limit) & (df_features['feature'].str.len() > 10)]\n"
   ]
  },
  {
   "cell_type": "code",
   "execution_count": 17,
   "metadata": {},
   "outputs": [],
   "source": [
    "@app.post('/soc_prediction')\n",
    "def soc_pred(input_parameters: model_input):\n",
    "    \n",
    "    input_data = input_parameters.json()\n",
    "    input_dictionary = json.loads(input_data)\n",
    "    \n",
    "    text = input_dictionary['text']\n",
    "\n",
    "    text = utils_preprocess_text(text, flg_stemm=False, flg_lemm=True, lst_stopwords=lst_stopwords)\n",
    "\n",
    "    # Vectorize the new text using the same vectorizer\n",
    "    text_vectorized = loaded_vectorizer.transform([text])\n",
    "\n",
    "    # Make probability predictions on the test set\n",
    "    predicted_soc_code = loaded_classifier.predict_proba(text_vectorized)\n",
    "\n",
    "    # Get the top 5 predicted classes and their confidence scores for each instance\n",
    "    top5_predictions = np.argsort(-predicted_soc_code[0])[:10]\n",
    "\n",
    "    top5_labels = [loaded_classifier.classes_[idx] for idx in top5_predictions]\n",
    "    top5_scores = sorted(predicted_soc_code[0], reverse=True)[:10]\n",
    "    top5_titles = [df[df['SOC_CODE'] == soc].iloc[0]['SOC_TITLE'] for soc in top5_labels]\n",
    "    top5_features = [list(df_features[df_features['y']==soc][0:10]['feature'].values) for soc in top5_labels]\n",
    "    \n",
    "    return [{'label': label, 'title': title, 'score': score, 'features': feature} for label, title, score, feature in zip(top5_labels, top5_titles, top5_scores, top5_features)]"
   ]
  },
  {
   "cell_type": "code",
   "execution_count": 18,
   "metadata": {},
   "outputs": [
    {
     "name": "stderr",
     "output_type": "stream",
     "text": [
      "t=2023-12-18T12:11:12-0500 lvl=warn msg=\"Your agent is deprecated. Please update at your earliest convenience.\" obj=tunnels.session extra=\"\\nWARNING: Usage of ngrok will soon require a verified account and authtoken.\\nSign up for an account: https://dashboard.ngrok.com/signup\\nInstall your authtoken: https://dashboard.ngrok.com/get-started/your-authtoken\"\n",
      "INFO:     Started server process [59274]\n",
      "INFO:     Waiting for application startup.\n",
      "INFO:     Application startup complete.\n",
      "INFO:     Uvicorn running on http://127.0.0.1:8000 (Press CTRL+C to quit)\n"
     ]
    },
    {
     "name": "stdout",
     "output_type": "stream",
     "text": [
      "Public URL: https://52e5-128-229-4-2.ngrok.io\n",
      "INFO:     54.157.94.67:0 - \"POST /soc_prediction HTTP/1.1\" 200 OK\n"
     ]
    },
    {
     "name": "stderr",
     "output_type": "stream",
     "text": [
      "/var/folders/cq/41xdcs5s1nz3zlwg6k9p28pr0000gp/T/ipykernel_59274/113787859.py:4: PydanticDeprecatedSince20: The `json` method is deprecated; use `model_dump_json` instead. Deprecated in Pydantic V2.0 to be removed in V3.0. See Pydantic V2 Migration Guide at https://errors.pydantic.dev/2.5/migration/\n",
      "  input_data = input_parameters.json()\n",
      "INFO:     Shutting down\n",
      "INFO:     Waiting for application shutdown.\n",
      "INFO:     Application shutdown complete.\n",
      "INFO:     Finished server process [59274]\n"
     ]
    },
    {
     "name": "stderr",
     "output_type": "stream",
     "text": [
      "t=2023-12-18T13:57:14-0500 lvl=eror msg=\"session closed, starting reconnect loop\" obj=tunnels.session obj=csess id=c92e822c1f2c err=\"read tcp 10.253.144.20:49726->3.12.62.205:443: read: can't assign requested address\"\n",
      "t=2023-12-18T13:57:14-0500 lvl=eror msg=\"failed to reconnect session\" obj=tunnels.session obj=csess id=c92e822c1f2c err=\"failed to dial ngrok server with address \\\"connect.us.ngrok-agent.com:443\\\": dial tcp: lookup connect.us.ngrok-agent.com: no such host\"\n",
      "t=2023-12-18T13:57:14-0500 lvl=eror msg=\"failed to reconnect session\" obj=tunnels.session obj=csess id=c92e822c1f2c err=\"failed to dial ngrok server with address \\\"connect.us.ngrok-agent.com:443\\\": dial tcp: lookup connect.us.ngrok-agent.com: no such host\"\n",
      "t=2023-12-18T13:57:15-0500 lvl=eror msg=\"failed to reconnect session\" obj=tunnels.session obj=csess id=c92e822c1f2c err=\"failed to dial ngrok server with address \\\"connect.us.ngrok-agent.com:443\\\": dial tcp: lookup connect.us.ngrok-agent.com: no such host\"\n",
      "t=2023-12-18T14:12:22-0500 lvl=eror msg=\"failed to reconnect session\" obj=tunnels.session obj=csess id=c92e822c1f2c err=\"failed to dial ngrok server with address \\\"connect.us.ngrok-agent.com:443\\\": dial tcp: lookup connect.us.ngrok-agent.com: no such host\"\n",
      "t=2023-12-18T14:12:23-0500 lvl=eror msg=\"heartbeat timeout, terminating session\" obj=tunnels.session obj=csess id=ebc11f1949d4 clientid=d4275acc8a09d62b7cd246d86ca25d9e\n",
      "t=2023-12-18T14:12:36-0500 lvl=eror msg=\"failed to reconnect session\" obj=tunnels.session obj=csess id=c92e822c1f2c err=\"failed to dial ngrok server with address \\\"connect.us.ngrok-agent.com:443\\\": dial tcp 3.16.250.205:443: i/o timeout\"\n",
      "t=2023-12-18T14:12:44-0500 lvl=warn msg=\"Your agent is deprecated. Please update at your earliest convenience.\" obj=tunnels.session extra=\"\\nWARNING: Usage of ngrok will soon require a verified account and authtoken.\\nSign up for an account: https://dashboard.ngrok.com/signup\\nInstall your authtoken: https://dashboard.ngrok.com/get-started/your-authtoken\"\n",
      "t=2023-12-18T14:41:24-0500 lvl=eror msg=\"session closed, starting reconnect loop\" obj=tunnels.session obj=csess id=c92e822c1f2c err=\"read tcp 10.253.144.20:51535->3.134.73.173:443: read: operation timed out\"\n",
      "t=2023-12-18T14:41:24-0500 lvl=eror msg=\"failed to reconnect session\" obj=tunnels.session obj=csess id=c92e822c1f2c err=\"failed to dial ngrok server with address \\\"connect.us.ngrok-agent.com:443\\\": dial tcp: lookup connect.us.ngrok-agent.com: no such host\"\n",
      "t=2023-12-18T14:41:24-0500 lvl=eror msg=\"failed to reconnect session\" obj=tunnels.session obj=csess id=c92e822c1f2c err=\"failed to dial ngrok server with address \\\"connect.us.ngrok-agent.com:443\\\": dial tcp: lookup connect.us.ngrok-agent.com: no such host\"\n",
      "t=2023-12-18T14:41:25-0500 lvl=eror msg=\"failed to reconnect session\" obj=tunnels.session obj=csess id=c92e822c1f2c err=\"failed to dial ngrok server with address \\\"connect.us.ngrok-agent.com:443\\\": dial tcp: lookup connect.us.ngrok-agent.com: no such host\"\n",
      "t=2023-12-18T14:41:27-0500 lvl=eror msg=\"failed to reconnect session\" obj=tunnels.session obj=csess id=c92e822c1f2c err=\"failed to dial ngrok server with address \\\"connect.us.ngrok-agent.com:443\\\": dial tcp: lookup connect.us.ngrok-agent.com: no such host\"\n",
      "t=2023-12-18T14:57:21-0500 lvl=eror msg=\"failed to reconnect session\" obj=tunnels.session obj=csess id=c92e822c1f2c err=\"failed to dial ngrok server with address \\\"connect.us.ngrok-agent.com:443\\\": dial tcp: lookup connect.us.ngrok-agent.com: no such host\"\n",
      "t=2023-12-18T15:15:16-0500 lvl=eror msg=\"heartbeat timeout, terminating session\" obj=tunnels.session obj=csess id=bddd7a3a9351 clientid=d4275acc8a09d62b7cd246d86ca25d9e\n",
      "t=2023-12-18T15:15:19-0500 lvl=eror msg=\"failed to reconnect session\" obj=tunnels.session obj=csess id=c92e822c1f2c err=\"failed to dial ngrok server with address \\\"connect.us.ngrok-agent.com:443\\\": dial tcp: lookup connect.us.ngrok-agent.com: no such host\"\n",
      "t=2023-12-18T16:05:21-0500 lvl=eror msg=\"failed to reconnect session\" obj=tunnels.session obj=csess id=c92e822c1f2c err=\"failed to dial ngrok server with address \\\"connect.us.ngrok-agent.com:443\\\": dial tcp: lookup connect.us.ngrok-agent.com: no such host\"\n",
      "t=2023-12-18T16:15:27-0500 lvl=warn msg=\"Your agent is deprecated. Please update at your earliest convenience.\" obj=tunnels.session extra=\"\\nWARNING: Usage of ngrok will soon require a verified account and authtoken.\\nSign up for an account: https://dashboard.ngrok.com/signup\\nInstall your authtoken: https://dashboard.ngrok.com/get-started/your-authtoken\"\n",
      "t=2023-12-18T16:44:47-0500 lvl=eror msg=\"session closed, starting reconnect loop\" obj=tunnels.session obj=csess id=c92e822c1f2c err=\"read tcp 10.253.144.20:52251->3.133.228.214:443: read: operation timed out\"\n",
      "t=2023-12-18T16:44:47-0500 lvl=eror msg=\"failed to reconnect session\" obj=tunnels.session obj=csess id=c92e822c1f2c err=\"failed to dial ngrok server with address \\\"connect.us.ngrok-agent.com:443\\\": dial tcp: lookup connect.us.ngrok-agent.com: no such host\"\n",
      "t=2023-12-18T16:44:48-0500 lvl=eror msg=\"failed to reconnect session\" obj=tunnels.session obj=csess id=c92e822c1f2c err=\"failed to dial ngrok server with address \\\"connect.us.ngrok-agent.com:443\\\": dial tcp: lookup connect.us.ngrok-agent.com: no such host\"\n",
      "t=2023-12-18T16:44:49-0500 lvl=eror msg=\"failed to reconnect session\" obj=tunnels.session obj=csess id=c92e822c1f2c err=\"failed to dial ngrok server with address \\\"connect.us.ngrok-agent.com:443\\\": dial tcp: lookup connect.us.ngrok-agent.com: no such host\"\n",
      "t=2023-12-18T16:44:51-0500 lvl=eror msg=\"failed to reconnect session\" obj=tunnels.session obj=csess id=c92e822c1f2c err=\"failed to dial ngrok server with address \\\"connect.us.ngrok-agent.com:443\\\": dial tcp: lookup connect.us.ngrok-agent.com: no such host\"\n",
      "t=2023-12-18T16:50:40-0500 lvl=eror msg=\"heartbeat timeout, terminating session\" obj=tunnels.session obj=csess id=6624e5367da9 clientid=d4275acc8a09d62b7cd246d86ca25d9e\n",
      "t=2023-12-18T16:50:46-0500 lvl=eror msg=\"failed to reconnect session\" obj=tunnels.session obj=csess id=c92e822c1f2c err=\"failed to dial ngrok server with address \\\"connect.us.ngrok-agent.com:443\\\": dial tcp 3.16.250.205:443: i/o timeout\"\n",
      "t=2023-12-18T16:50:55-0500 lvl=warn msg=\"Your agent is deprecated. Please update at your earliest convenience.\" obj=tunnels.session extra=\"\\nWARNING: Usage of ngrok will soon require a verified account and authtoken.\\nSign up for an account: https://dashboard.ngrok.com/signup\\nInstall your authtoken: https://dashboard.ngrok.com/get-started/your-authtoken\"\n",
      "t=2023-12-18T18:46:59-0500 lvl=eror msg=\"heartbeat timeout, terminating session\" obj=tunnels.session obj=csess id=9c3a5a7ede7e clientid=d4275acc8a09d62b7cd246d86ca25d9e\n",
      "t=2023-12-18T18:46:59-0500 lvl=eror msg=\"session closed, starting reconnect loop\" obj=tunnels.session obj=csess id=c92e822c1f2c err=\"session closed\"\n",
      "t=2023-12-18T18:47:00-0500 lvl=warn msg=\"Your agent is deprecated. Please update at your earliest convenience.\" obj=tunnels.session extra=\"\\nWARNING: Usage of ngrok will soon require a verified account and authtoken.\\nSign up for an account: https://dashboard.ngrok.com/signup\\nInstall your authtoken: https://dashboard.ngrok.com/get-started/your-authtoken\"\n",
      "t=2023-12-18T19:18:54-0500 lvl=eror msg=\"session closed, starting reconnect loop\" obj=tunnels.session obj=csess id=c92e822c1f2c err=\"read tcp 192.168.1.210:55496->3.12.62.205:443: read: connection reset by peer\"\n",
      "t=2023-12-18T19:18:54-0500 lvl=warn msg=\"Your agent is deprecated. Please update at your earliest convenience.\" obj=tunnels.session extra=\"\\nWARNING: Usage of ngrok will soon require a verified account and authtoken.\\nSign up for an account: https://dashboard.ngrok.com/signup\\nInstall your authtoken: https://dashboard.ngrok.com/get-started/your-authtoken\"\n",
      "t=2023-12-18T19:53:20-0500 lvl=eror msg=\"session closed, starting reconnect loop\" obj=tunnels.session obj=csess id=c92e822c1f2c err=\"read tcp 192.168.1.210:55564->3.12.62.205:443: read: connection reset by peer\"\n",
      "t=2023-12-18T19:53:20-0500 lvl=warn msg=\"Your agent is deprecated. Please update at your earliest convenience.\" obj=tunnels.session extra=\"\\nWARNING: Usage of ngrok will soon require a verified account and authtoken.\\nSign up for an account: https://dashboard.ngrok.com/signup\\nInstall your authtoken: https://dashboard.ngrok.com/get-started/your-authtoken\"\n",
      "t=2023-12-18T20:07:37-0500 lvl=eror msg=\"heartbeat timeout, terminating session\" obj=tunnels.session obj=csess id=b86325e5adbf clientid=d4275acc8a09d62b7cd246d86ca25d9e\n",
      "t=2023-12-18T20:07:42-0500 lvl=eror msg=\"session closed, starting reconnect loop\" obj=tunnels.session obj=csess id=c92e822c1f2c err=\"read tcp 192.168.1.210:55651->3.12.62.205:443: read: connection reset by peer\"\n",
      "t=2023-12-18T20:07:42-0500 lvl=warn msg=\"Your agent is deprecated. Please update at your earliest convenience.\" obj=tunnels.session extra=\"\\nWARNING: Usage of ngrok will soon require a verified account and authtoken.\\nSign up for an account: https://dashboard.ngrok.com/signup\\nInstall your authtoken: https://dashboard.ngrok.com/get-started/your-authtoken\"\n",
      "t=2023-12-18T20:25:12-0500 lvl=eror msg=\"heartbeat timeout, terminating session\" obj=tunnels.session obj=csess id=34a29f3ce188 clientid=d4275acc8a09d62b7cd246d86ca25d9e\n",
      "t=2023-12-18T20:31:09-0500 lvl=eror msg=\"session closed, starting reconnect loop\" obj=tunnels.session obj=csess id=c92e822c1f2c err=\"read tcp 192.168.1.210:55719->3.133.228.214:443: read: connection reset by peer\"\n",
      "t=2023-12-18T20:31:09-0500 lvl=warn msg=\"Your agent is deprecated. Please update at your earliest convenience.\" obj=tunnels.session extra=\"\\nWARNING: Usage of ngrok will soon require a verified account and authtoken.\\nSign up for an account: https://dashboard.ngrok.com/signup\\nInstall your authtoken: https://dashboard.ngrok.com/get-started/your-authtoken\"\n",
      "t=2023-12-18T20:31:14-0500 lvl=eror msg=\"heartbeat timeout, terminating session\" obj=tunnels.session obj=csess id=06fc60bfc1d3 clientid=d4275acc8a09d62b7cd246d86ca25d9e\n",
      "t=2023-12-18T20:31:24-0500 lvl=eror msg=\"heartbeat timeout, terminating session\" obj=tunnels.session obj=csess id=df2c650633d8 clientid=d4275acc8a09d62b7cd246d86ca25d9e\n",
      "t=2023-12-18T23:01:03-0500 lvl=eror msg=\"session closed, starting reconnect loop\" obj=tunnels.session obj=csess id=c92e822c1f2c err=\"read tcp 192.168.1.210:55816->3.136.132.147:443: read: connection reset by peer\"\n",
      "t=2023-12-18T23:01:03-0500 lvl=warn msg=\"Your agent is deprecated. Please update at your earliest convenience.\" obj=tunnels.session extra=\"\\nWARNING: Usage of ngrok will soon require a verified account and authtoken.\\nSign up for an account: https://dashboard.ngrok.com/signup\\nInstall your authtoken: https://dashboard.ngrok.com/get-started/your-authtoken\"\n",
      "t=2023-12-18T23:34:08-0500 lvl=eror msg=\"session closed, starting reconnect loop\" obj=tunnels.session obj=csess id=c92e822c1f2c err=\"read tcp 192.168.1.210:59247->3.133.228.214:443: read: connection reset by peer\"\n",
      "t=2023-12-18T23:34:08-0500 lvl=warn msg=\"Your agent is deprecated. Please update at your earliest convenience.\" obj=tunnels.session extra=\"\\nWARNING: Usage of ngrok will soon require a verified account and authtoken.\\nSign up for an account: https://dashboard.ngrok.com/signup\\nInstall your authtoken: https://dashboard.ngrok.com/get-started/your-authtoken\"\n",
      "t=2023-12-18T23:34:12-0500 lvl=eror msg=\"heartbeat timeout, terminating session\" obj=tunnels.session obj=csess id=7b038e44efd2 clientid=d4275acc8a09d62b7cd246d86ca25d9e\n",
      "t=2023-12-19T00:05:20-0500 lvl=eror msg=\"session closed, starting reconnect loop\" obj=tunnels.session obj=csess id=c92e822c1f2c err=\"read tcp 192.168.1.210:59360->3.136.132.147:443: read: connection reset by peer\"\n",
      "t=2023-12-19T00:05:20-0500 lvl=warn msg=\"Your agent is deprecated. Please update at your earliest convenience.\" obj=tunnels.session extra=\"\\nWARNING: Usage of ngrok will soon require a verified account and authtoken.\\nSign up for an account: https://dashboard.ngrok.com/signup\\nInstall your authtoken: https://dashboard.ngrok.com/get-started/your-authtoken\"\n",
      "t=2023-12-19T00:05:24-0500 lvl=eror msg=\"heartbeat timeout, terminating session\" obj=tunnels.session obj=csess id=13e19830bc8c clientid=d4275acc8a09d62b7cd246d86ca25d9e\n",
      "t=2023-12-19T00:39:33-0500 lvl=eror msg=\"session closed, starting reconnect loop\" obj=tunnels.session obj=csess id=c92e822c1f2c err=\"read tcp 192.168.1.210:59445->3.133.228.214:443: read: connection reset by peer\"\n",
      "t=2023-12-19T00:39:33-0500 lvl=warn msg=\"Your agent is deprecated. Please update at your earliest convenience.\" obj=tunnels.session extra=\"\\nWARNING: Usage of ngrok will soon require a verified account and authtoken.\\nSign up for an account: https://dashboard.ngrok.com/signup\\nInstall your authtoken: https://dashboard.ngrok.com/get-started/your-authtoken\"\n",
      "t=2023-12-19T00:39:37-0500 lvl=eror msg=\"heartbeat timeout, terminating session\" obj=tunnels.session obj=csess id=2fbdffddd7ba clientid=d4275acc8a09d62b7cd246d86ca25d9e\n",
      "t=2023-12-19T01:12:59-0500 lvl=eror msg=\"session closed, starting reconnect loop\" obj=tunnels.session obj=csess id=c92e822c1f2c err=\"read tcp 192.168.1.210:59556->3.16.250.205:443: read: connection reset by peer\"\n",
      "t=2023-12-19T01:12:59-0500 lvl=warn msg=\"Your agent is deprecated. Please update at your earliest convenience.\" obj=tunnels.session extra=\"\\nWARNING: Usage of ngrok will soon require a verified account and authtoken.\\nSign up for an account: https://dashboard.ngrok.com/signup\\nInstall your authtoken: https://dashboard.ngrok.com/get-started/your-authtoken\"\n",
      "t=2023-12-19T01:13:03-0500 lvl=eror msg=\"heartbeat timeout, terminating session\" obj=tunnels.session obj=csess id=586ea02138ba clientid=d4275acc8a09d62b7cd246d86ca25d9e\n",
      "t=2023-12-19T01:45:28-0500 lvl=eror msg=\"session closed, starting reconnect loop\" obj=tunnels.session obj=csess id=c92e822c1f2c err=\"read tcp 192.168.1.210:59666->3.136.132.147:443: read: connection reset by peer\"\n",
      "t=2023-12-19T01:45:28-0500 lvl=warn msg=\"Your agent is deprecated. Please update at your earliest convenience.\" obj=tunnels.session extra=\"\\nWARNING: Usage of ngrok will soon require a verified account and authtoken.\\nSign up for an account: https://dashboard.ngrok.com/signup\\nInstall your authtoken: https://dashboard.ngrok.com/get-started/your-authtoken\"\n",
      "t=2023-12-19T01:45:32-0500 lvl=eror msg=\"heartbeat timeout, terminating session\" obj=tunnels.session obj=csess id=c7edd85004bd clientid=d4275acc8a09d62b7cd246d86ca25d9e\n",
      "t=2023-12-19T02:17:14-0500 lvl=eror msg=\"session closed, starting reconnect loop\" obj=tunnels.session obj=csess id=c92e822c1f2c err=\"read tcp 192.168.1.210:59758->3.20.27.198:443: read: connection reset by peer\"\n",
      "t=2023-12-19T02:17:14-0500 lvl=warn msg=\"Your agent is deprecated. Please update at your earliest convenience.\" obj=tunnels.session extra=\"\\nWARNING: Usage of ngrok will soon require a verified account and authtoken.\\nSign up for an account: https://dashboard.ngrok.com/signup\\nInstall your authtoken: https://dashboard.ngrok.com/get-started/your-authtoken\"\n",
      "t=2023-12-19T02:17:18-0500 lvl=eror msg=\"heartbeat timeout, terminating session\" obj=tunnels.session obj=csess id=856d1cc10fef clientid=d4275acc8a09d62b7cd246d86ca25d9e\n",
      "t=2023-12-19T02:52:02-0500 lvl=eror msg=\"session closed, starting reconnect loop\" obj=tunnels.session obj=csess id=c92e822c1f2c err=\"read tcp 192.168.1.210:59849->3.20.27.198:443: read: connection reset by peer\"\n",
      "t=2023-12-19T02:52:02-0500 lvl=warn msg=\"Your agent is deprecated. Please update at your earliest convenience.\" obj=tunnels.session extra=\"\\nWARNING: Usage of ngrok will soon require a verified account and authtoken.\\nSign up for an account: https://dashboard.ngrok.com/signup\\nInstall your authtoken: https://dashboard.ngrok.com/get-started/your-authtoken\"\n",
      "t=2023-12-19T02:52:06-0500 lvl=eror msg=\"heartbeat timeout, terminating session\" obj=tunnels.session obj=csess id=f498b8c6469d clientid=d4275acc8a09d62b7cd246d86ca25d9e\n",
      "t=2023-12-19T03:26:52-0500 lvl=eror msg=\"session closed, starting reconnect loop\" obj=tunnels.session obj=csess id=c92e822c1f2c err=\"read tcp 192.168.1.210:59950->3.12.62.205:443: read: connection reset by peer\"\n",
      "t=2023-12-19T03:26:52-0500 lvl=warn msg=\"Your agent is deprecated. Please update at your earliest convenience.\" obj=tunnels.session extra=\"\\nWARNING: Usage of ngrok will soon require a verified account and authtoken.\\nSign up for an account: https://dashboard.ngrok.com/signup\\nInstall your authtoken: https://dashboard.ngrok.com/get-started/your-authtoken\"\n",
      "t=2023-12-19T03:26:56-0500 lvl=eror msg=\"heartbeat timeout, terminating session\" obj=tunnels.session obj=csess id=e1a347567ec3 clientid=d4275acc8a09d62b7cd246d86ca25d9e\n",
      "t=2023-12-19T04:00:19-0500 lvl=eror msg=\"session closed, starting reconnect loop\" obj=tunnels.session obj=csess id=c92e822c1f2c err=\"read tcp 192.168.1.210:60037->3.136.132.147:443: read: connection reset by peer\"\n",
      "t=2023-12-19T04:00:19-0500 lvl=warn msg=\"Your agent is deprecated. Please update at your earliest convenience.\" obj=tunnels.session extra=\"\\nWARNING: Usage of ngrok will soon require a verified account and authtoken.\\nSign up for an account: https://dashboard.ngrok.com/signup\\nInstall your authtoken: https://dashboard.ngrok.com/get-started/your-authtoken\"\n",
      "t=2023-12-19T04:00:23-0500 lvl=eror msg=\"heartbeat timeout, terminating session\" obj=tunnels.session obj=csess id=5e5a98c384c1 clientid=d4275acc8a09d62b7cd246d86ca25d9e\n",
      "t=2023-12-19T04:20:38-0500 lvl=eror msg=\"session closed, starting reconnect loop\" obj=tunnels.session obj=csess id=c92e822c1f2c err=\"read tcp 192.168.1.210:60134->3.133.228.214:443: read: connection reset by peer\"\n",
      "t=2023-12-19T04:20:38-0500 lvl=warn msg=\"Your agent is deprecated. Please update at your earliest convenience.\" obj=tunnels.session extra=\"\\nWARNING: Usage of ngrok will soon require a verified account and authtoken.\\nSign up for an account: https://dashboard.ngrok.com/signup\\nInstall your authtoken: https://dashboard.ngrok.com/get-started/your-authtoken\"\n",
      "t=2023-12-19T04:20:42-0500 lvl=eror msg=\"heartbeat timeout, terminating session\" obj=tunnels.session obj=csess id=06ebc36ab841 clientid=d4275acc8a09d62b7cd246d86ca25d9e\n",
      "t=2023-12-19T04:38:06-0500 lvl=eror msg=\"session closed, starting reconnect loop\" obj=tunnels.session obj=csess id=c92e822c1f2c err=\"read tcp 192.168.1.210:60225->3.133.228.214:443: read: connection reset by peer\"\n",
      "t=2023-12-19T04:38:06-0500 lvl=warn msg=\"Your agent is deprecated. Please update at your earliest convenience.\" obj=tunnels.session extra=\"\\nWARNING: Usage of ngrok will soon require a verified account and authtoken.\\nSign up for an account: https://dashboard.ngrok.com/signup\\nInstall your authtoken: https://dashboard.ngrok.com/get-started/your-authtoken\"\n",
      "t=2023-12-19T04:38:10-0500 lvl=eror msg=\"heartbeat timeout, terminating session\" obj=tunnels.session obj=csess id=b8eeae6b415c clientid=d4275acc8a09d62b7cd246d86ca25d9e\n",
      "t=2023-12-19T05:12:45-0500 lvl=eror msg=\"session closed, starting reconnect loop\" obj=tunnels.session obj=csess id=c92e822c1f2c err=\"read tcp 192.168.1.210:60258->3.12.62.205:443: read: connection reset by peer\"\n",
      "t=2023-12-19T05:12:45-0500 lvl=warn msg=\"Your agent is deprecated. Please update at your earliest convenience.\" obj=tunnels.session extra=\"\\nWARNING: Usage of ngrok will soon require a verified account and authtoken.\\nSign up for an account: https://dashboard.ngrok.com/signup\\nInstall your authtoken: https://dashboard.ngrok.com/get-started/your-authtoken\"\n",
      "t=2023-12-19T05:12:49-0500 lvl=eror msg=\"heartbeat timeout, terminating session\" obj=tunnels.session obj=csess id=042d6a31b9a9 clientid=d4275acc8a09d62b7cd246d86ca25d9e\n",
      "t=2023-12-19T05:45:25-0500 lvl=eror msg=\"session closed, starting reconnect loop\" obj=tunnels.session obj=csess id=c92e822c1f2c err=\"read tcp 192.168.1.210:60344->3.20.27.198:443: read: connection reset by peer\"\n",
      "t=2023-12-19T05:45:25-0500 lvl=warn msg=\"Your agent is deprecated. Please update at your earliest convenience.\" obj=tunnels.session extra=\"\\nWARNING: Usage of ngrok will soon require a verified account and authtoken.\\nSign up for an account: https://dashboard.ngrok.com/signup\\nInstall your authtoken: https://dashboard.ngrok.com/get-started/your-authtoken\"\n",
      "t=2023-12-19T05:45:29-0500 lvl=eror msg=\"heartbeat timeout, terminating session\" obj=tunnels.session obj=csess id=c466828faee6 clientid=d4275acc8a09d62b7cd246d86ca25d9e\n",
      "t=2023-12-19T06:18:55-0500 lvl=eror msg=\"session closed, starting reconnect loop\" obj=tunnels.session obj=csess id=c92e822c1f2c err=\"read tcp 192.168.1.210:60437->3.133.228.214:443: read: connection reset by peer\"\n",
      "t=2023-12-19T06:18:55-0500 lvl=warn msg=\"Your agent is deprecated. Please update at your earliest convenience.\" obj=tunnels.session extra=\"\\nWARNING: Usage of ngrok will soon require a verified account and authtoken.\\nSign up for an account: https://dashboard.ngrok.com/signup\\nInstall your authtoken: https://dashboard.ngrok.com/get-started/your-authtoken\"\n",
      "t=2023-12-19T06:18:59-0500 lvl=eror msg=\"heartbeat timeout, terminating session\" obj=tunnels.session obj=csess id=bc8fc27d6811 clientid=d4275acc8a09d62b7cd246d86ca25d9e\n",
      "t=2023-12-19T06:52:06-0500 lvl=eror msg=\"session closed, starting reconnect loop\" obj=tunnels.session obj=csess id=c92e822c1f2c err=\"read tcp 192.168.1.210:60522->3.12.62.205:443: read: connection reset by peer\"\n",
      "t=2023-12-19T06:52:06-0500 lvl=warn msg=\"Your agent is deprecated. Please update at your earliest convenience.\" obj=tunnels.session extra=\"\\nWARNING: Usage of ngrok will soon require a verified account and authtoken.\\nSign up for an account: https://dashboard.ngrok.com/signup\\nInstall your authtoken: https://dashboard.ngrok.com/get-started/your-authtoken\"\n",
      "t=2023-12-19T06:52:09-0500 lvl=eror msg=\"heartbeat timeout, terminating session\" obj=tunnels.session obj=csess id=58bba7782ec6 clientid=d4275acc8a09d62b7cd246d86ca25d9e\n",
      "t=2023-12-19T07:26:39-0500 lvl=eror msg=\"session closed, starting reconnect loop\" obj=tunnels.session obj=csess id=c92e822c1f2c err=\"read tcp 192.168.1.210:60613->3.20.27.198:443: read: connection reset by peer\"\n",
      "t=2023-12-19T07:26:39-0500 lvl=warn msg=\"Your agent is deprecated. Please update at your earliest convenience.\" obj=tunnels.session extra=\"\\nWARNING: Usage of ngrok will soon require a verified account and authtoken.\\nSign up for an account: https://dashboard.ngrok.com/signup\\nInstall your authtoken: https://dashboard.ngrok.com/get-started/your-authtoken\"\n",
      "t=2023-12-19T07:26:42-0500 lvl=eror msg=\"heartbeat timeout, terminating session\" obj=tunnels.session obj=csess id=a9d45eecd280 clientid=d4275acc8a09d62b7cd246d86ca25d9e\n",
      "t=2023-12-19T07:59:29-0500 lvl=eror msg=\"session closed, starting reconnect loop\" obj=tunnels.session obj=csess id=c92e822c1f2c err=\"read tcp 192.168.1.210:60693->3.133.228.214:443: read: connection reset by peer\"\n",
      "t=2023-12-19T07:59:29-0500 lvl=warn msg=\"Your agent is deprecated. Please update at your earliest convenience.\" obj=tunnels.session extra=\"\\nWARNING: Usage of ngrok will soon require a verified account and authtoken.\\nSign up for an account: https://dashboard.ngrok.com/signup\\nInstall your authtoken: https://dashboard.ngrok.com/get-started/your-authtoken\"\n",
      "t=2023-12-19T07:59:33-0500 lvl=eror msg=\"heartbeat timeout, terminating session\" obj=tunnels.session obj=csess id=6a1f616f10e7 clientid=d4275acc8a09d62b7cd246d86ca25d9e\n",
      "t=2023-12-19T08:32:48-0500 lvl=eror msg=\"session closed, starting reconnect loop\" obj=tunnels.session obj=csess id=c92e822c1f2c err=\"read tcp 192.168.1.210:60787->3.20.27.198:443: read: connection reset by peer\"\n",
      "t=2023-12-19T08:32:48-0500 lvl=warn msg=\"Your agent is deprecated. Please update at your earliest convenience.\" obj=tunnels.session extra=\"\\nWARNING: Usage of ngrok will soon require a verified account and authtoken.\\nSign up for an account: https://dashboard.ngrok.com/signup\\nInstall your authtoken: https://dashboard.ngrok.com/get-started/your-authtoken\"\n",
      "t=2023-12-19T08:32:51-0500 lvl=eror msg=\"heartbeat timeout, terminating session\" obj=tunnels.session obj=csess id=7e99cbfed361 clientid=d4275acc8a09d62b7cd246d86ca25d9e\n",
      "t=2023-12-19T08:48:42-0500 lvl=eror msg=\"session closed, starting reconnect loop\" obj=tunnels.session obj=csess id=c92e822c1f2c err=\"read tcp 192.168.1.210:60883->3.12.62.205:443: read: connection reset by peer\"\n",
      "t=2023-12-19T09:05:06-0500 lvl=warn msg=\"Your agent is deprecated. Please update at your earliest convenience.\" obj=tunnels.session extra=\"\\nWARNING: Usage of ngrok will soon require a verified account and authtoken.\\nSign up for an account: https://dashboard.ngrok.com/signup\\nInstall your authtoken: https://dashboard.ngrok.com/get-started/your-authtoken\"\n",
      "t=2023-12-19T09:05:09-0500 lvl=eror msg=\"heartbeat timeout, terminating session\" obj=tunnels.session obj=csess id=fbc6b8dafe38 clientid=d4275acc8a09d62b7cd246d86ca25d9e\n",
      "t=2023-12-19T09:39:13-0500 lvl=eror msg=\"session closed, starting reconnect loop\" obj=tunnels.session obj=csess id=c92e822c1f2c err=\"read tcp 192.168.1.210:60987->3.16.250.205:443: read: connection reset by peer\"\n",
      "t=2023-12-19T09:39:13-0500 lvl=warn msg=\"Your agent is deprecated. Please update at your earliest convenience.\" obj=tunnels.session extra=\"\\nWARNING: Usage of ngrok will soon require a verified account and authtoken.\\nSign up for an account: https://dashboard.ngrok.com/signup\\nInstall your authtoken: https://dashboard.ngrok.com/get-started/your-authtoken\"\n",
      "t=2023-12-19T09:39:16-0500 lvl=eror msg=\"heartbeat timeout, terminating session\" obj=tunnels.session obj=csess id=fbd34358e0b8 clientid=d4275acc8a09d62b7cd246d86ca25d9e\n",
      "t=2023-12-19T09:59:10-0500 lvl=eror msg=\"session closed, starting reconnect loop\" obj=tunnels.session obj=csess id=c92e822c1f2c err=\"read tcp 192.168.1.210:61079->3.133.228.214:443: read: connection reset by peer\"\n",
      "t=2023-12-19T09:59:11-0500 lvl=warn msg=\"Your agent is deprecated. Please update at your earliest convenience.\" obj=tunnels.session extra=\"\\nWARNING: Usage of ngrok will soon require a verified account and authtoken.\\nSign up for an account: https://dashboard.ngrok.com/signup\\nInstall your authtoken: https://dashboard.ngrok.com/get-started/your-authtoken\"\n",
      "t=2023-12-19T09:59:14-0500 lvl=eror msg=\"heartbeat timeout, terminating session\" obj=tunnels.session obj=csess id=b41c1d9b2328 clientid=d4275acc8a09d62b7cd246d86ca25d9e\n",
      "t=2023-12-19T09:59:25-0500 lvl=eror msg=\"heartbeat timeout, terminating session\" obj=tunnels.session obj=csess id=e5d04517ee49 clientid=d4275acc8a09d62b7cd246d86ca25d9e\n"
     ]
    }
   ],
   "source": [
    "ngrok_tunnel = ngrok.connect(8000)\n",
    "print('Public URL:', ngrok_tunnel.public_url)\n",
    "nest_asyncio.apply()\n",
    "uvicorn.run(app, port=8000)"
   ]
  },
  {
   "cell_type": "code",
   "execution_count": null,
   "metadata": {},
   "outputs": [],
   "source": []
  }
 ],
 "metadata": {
  "kernelspec": {
   "display_name": "base",
   "language": "python",
   "name": "python3"
  },
  "language_info": {
   "codemirror_mode": {
    "name": "ipython",
    "version": 3
   },
   "file_extension": ".py",
   "mimetype": "text/x-python",
   "name": "python",
   "nbconvert_exporter": "python",
   "pygments_lexer": "ipython3",
   "version": "3.11.4"
  }
 },
 "nbformat": 4,
 "nbformat_minor": 2
}
